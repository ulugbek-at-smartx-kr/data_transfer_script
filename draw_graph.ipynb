{
  "nbformat": 4,
  "nbformat_minor": 0,
  "metadata": {
    "colab": {
      "name": "draw_graph.ipynb",
      "provenance": []
    },
    "kernelspec": {
      "name": "python3",
      "display_name": "Python 3"
    },
    "language_info": {
      "name": "python"
    }
  },
  "cells": [
    {
      "cell_type": "code",
      "metadata": {
        "id": "zfrh-4ET3B_F"
      },
      "source": [
        "import numpy as np\n",
        "import matplotlib.pyplot as plt\n",
        "import csv\n",
        "import plotly.express as px\n",
        "import pandas as pd\n",
        "import matplotlib.ticker as plticker\n",
        "\n"
      ],
      "execution_count": 15,
      "outputs": []
    },
    {
      "cell_type": "code",
      "metadata": {
        "colab": {
          "base_uri": "https://localhost:8080/",
          "height": 1000
        },
        "id": "Sq5jaKxmNfXW",
        "outputId": "c028b9ce-2f19-4842-ed8f-48392ecea8a5"
      },
      "source": [
        "\n",
        "\n",
        "plt.rcParams[\"figure.figsize\"] = [15.00, 7.50]\n",
        "plt.rcParams[\"figure.autolayout\"] = True\n",
        "\n",
        "\n",
        "columns = [\"Datasets\", \"escp\",\"FDT\"]\n",
        "\n",
        "df = pd.read_csv(\"test_file.csv\", usecols=columns)\n",
        "test = df[\"Datasets\"].tolist()\n",
        "\n",
        "print(\"Contents in csv file:\\n\", df)\n",
        "\n",
        "\n",
        "df.set_index('Datasets').plot()\n",
        "\n",
        "plt.show()"
      ],
      "execution_count": 20,
      "outputs": [
        {
          "output_type": "stream",
          "name": "stdout",
          "text": [
            "Contents in csv file:\n",
            "            Datasets  escp  FDT\n",
            "0     1048576 x 2KB   0.1  0.1\n",
            "1     1048576 x 4KB   0.1  0.1\n",
            "2     1048576 x 8KB   0.2  0.2\n",
            "3    1048576 x 16KB   0.2  0.3\n",
            "4    1048576 x 32KB   0.2  0.4\n",
            "5    1048576 x 64KB   0.4  0.5\n",
            "6   1048576 x 128KB   0.7  0.8\n",
            "7    524288 x 256KB   1.4  1.9\n",
            "8    262144 x 512KB   2.5  2.8\n",
            "9      131072 x 1MB   3.6  3.9\n",
            "10      65536 x 2MB   4.5  4.2\n",
            "11      32768 x 4MB   6.7  4.4\n",
            "12      16384 x 8MB   7.2  4.6\n",
            "13      8192 x 16MB   8.0  7.8\n",
            "14      4096 x 32MB   9.6  7.7\n",
            "15      2048 x 64MB  10.6  7.9\n",
            "16     1024 x 128MB  10.8  8.2\n",
            "17      512 x 256MB  11.0  8.3\n",
            "18      256 x 512MB  11.3  8.6\n",
            "19        128 x 1GB  11.5  8.8\n",
            "20         64 x 2GB  11.7  9.0\n",
            "21         32 x 4GB  11.9  9.2\n",
            "22         16 x 8GB  12.1  9.3\n",
            "23         8 x 16GB  12.2  9.3\n",
            "24         4 x 32GB  12.3  9.2\n",
            "25         2 x 64GB  12.2  9.5\n",
            "26        1 x 128GB  12.1  9.4\n"
          ]
        },
        {
          "output_type": "display_data",
          "data": {
            "image/png": "[encoded data removed]",
            "text/plain": [
              "<Figure size 1080x540 with 1 Axes>"
            ]
          },
          "metadata": {
            "needs_background": "light"
          }
        }
      ]
    },
    {
      "cell_type": "code",
      "metadata": {
        "id": "kJR0u4WI9jIw"
      },
      "source": [
        ""
      ],
      "execution_count": null,
      "outputs": []
    },
    {
      "cell_type": "code",
      "metadata": {
        "colab": {
          "base_uri": "https://localhost:8080/"
        },
        "id": "Fr-Pj9pq9j7-",
        "outputId": "e43a1139-8216-4d42-ea33-d609f1747b60"
      },
      "source": [
        ""
      ],
      "execution_count": 23,
      "outputs": [
        {
          "output_type": "stream",
          "name": "stdout",
          "text": [
            "sample_data  test_file.csv\n"
          ]
        }
      ]
    },
    {
      "cell_type": "code",
      "metadata": {
        "id": "p4YiLwNB9f7H"
      },
      "source": [
        ""
      ],
      "execution_count": 21,
      "outputs": []
    },
    {
      "cell_type": "code",
      "metadata": {
        "id": "jjILevSANkJa",
        "colab": {
          "base_uri": "https://localhost:8080/"
        },
        "outputId": "479cc024-2f9e-4308-fc13-e5e93d46a221"
      },
      "source": [
        ""
      ],
      "execution_count": 22,
      "outputs": [
        {
          "output_type": "execute_result",
          "data": {
            "text/plain": [
              "0"
            ]
          },
          "metadata": {},
          "execution_count": 22
        }
      ]
    },
    {
      "cell_type": "code",
      "metadata": {
        "colab": {
          "base_uri": "https://localhost:8080/"
        },
        "id": "chD0abCb9_lo",
        "outputId": "57eb354b-1cf2-4dbc-ad24-4f43ba69cbc4"
      },
      "source": [
        ""
      ],
      "execution_count": 24,
      "outputs": [
        {
          "output_type": "execute_result",
          "data": {
            "text/plain": [
              "0"
            ]
          },
          "metadata": {},
          "execution_count": 24
        }
      ]
    },
    {
      "cell_type": "code",
      "metadata": {
        "colab": {
          "base_uri": "https://localhost:8080/"
        },
        "id": "7lDy5bCw-OT9",
        "outputId": "64adba92-9997-4582-f08a-3f0e2c7e330a"
      },
      "source": [
        ""
      ],
      "execution_count": 25,
      "outputs": [
        {
          "output_type": "stream",
          "name": "stdout",
          "text": [
            "1MB.txt  sample_data  test_file.csv\n"
          ]
        }
      ]
    }
  ]
}