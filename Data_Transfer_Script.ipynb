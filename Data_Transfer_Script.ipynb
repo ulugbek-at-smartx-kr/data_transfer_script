{
  "nbformat": 4,
  "nbformat_minor": 0,
  "metadata": {
    "colab": {
      "name": "Data_Transfer_Script.ipynb",
      "provenance": []
    },
    "kernelspec": {
      "name": "python3",
      "display_name": "Python 3"
    },
    "language_info": {
      "name": "python"
    }
  },
  "cells": [
    {
      "cell_type": "code",
      "metadata": {
        "id": "yOBPJztwB0Jx"
      },
      "source": [
        "import os"
      ],
      "execution_count": 3,
      "outputs": []
    },
    {
      "cell_type": "code",
      "metadata": {
        "id": "QzCiRoxgB6kB"
      },
      "source": [
        "# this function is for creating random dataset with specified file size and number of dataset\n",
        "# this function could be very useful for creating random dataset which will later be used for data transfer experiments\n",
        "def createFile(number, file_size):\n",
        "\n",
        "  for x in range(number):\n",
        "    os.system(f\"fallocate -l {file_size} {file_size}_{x}.txt\")\n",
        "\n",
        "\n",
        "def run_FDT_Server():\n",
        "  print(os.system(\"java -jar fdt.jar -S\"))\n",
        "\n",
        "def run_FDT_Client(remote_address, destinationDir, file_name):\n",
        "  print(os.system(f\"java -jar fdt.jar -c {remote_address} -d {destinationDir} ./{file_name}\"))"
      ],
      "execution_count": 16,
      "outputs": []
    },
    {
      "cell_type": "code",
      "metadata": {
        "id": "bXSaQ4eUCtbV"
      },
      "source": [
        "createFile(5,\"2MB\")"
      ],
      "execution_count": 17,
      "outputs": []
    },
    {
      "cell_type": "code",
      "metadata": {
        "colab": {
          "base_uri": "https://localhost:8080/"
        },
        "id": "w-icC1LtB82K",
        "outputId": "cb4ba057-9e22-4073-b94b-88ab2c9bc750"
      },
      "source": [
        "print(os.popen(\"ls\").read())"
      ],
      "execution_count": 18,
      "outputs": [
        {
          "output_type": "stream",
          "name": "stdout",
          "text": [
            "2MB_0.txt\n",
            "2MB_1.txt\n",
            "2MB_2.txt\n",
            "2MB2.txt\n",
            "2MB_3.txt\n",
            "2MB_4.txt\n",
            "2MB5.txt\n",
            "sample_data\n",
            "\n"
          ]
        }
      ]
    }
  ]
}